{
    "metadata": {
        "kernelspec": {
            "name": "powershell",
            "display_name": "PowerShell",
            "language": "powershell"
        },
        "language_info": {
            "name": "powershell",
            "codemirror_mode": "shell",
            "mimetype": "text/x-sh",
            "file_extension": ".ps1"
        },
        "extensions": {
            "azuredatastudio": {
                "version": 1,
                "views": []
            }
        }
    },
    "nbformat_minor": 2,
    "nbformat": 4,
    "cells": [
        {
            "cell_type": "markdown",
            "source": [
                "## Private Preview: Provision a data transfer service in Cosmos DB"
            ],
            "metadata": {
                "azdata_cell_guid": "c203d004-bab9-47d2-b578-2302caac8dae"
            },
            "attachments": {}
        },
        {
            "cell_type": "markdown",
            "source": [
                "### **Important!**\r\n",
                "Email Data Transfer Team to request this capability on your subscrition, if you haven't yet!\r\n",
                "\r\n",
                "Note: There is a charge associated with this transfer and shows up on your invoice as 'Cluster compute', if you have more billing questions which will be addressed in the email.\r\n",
                "\r\n",
                "Contacts: anfeldma@microsoft.com , skarri@microsoft.com"
            ],
            "metadata": {
                "azdata_cell_guid": "9208b484-eab1-40d3-b50e-d679b8fab192"
            }
        },
        {
            "cell_type": "markdown",
            "source": [
                "### Login to your Subscription and Provide Sub Id, Resource Group, Cosmos DB Account Name, Storage Account and Region"
            ],
            "metadata": {
                "azdata_cell_guid": "0b4070cc-e751-4341-a23d-c6ef1a0fe1bf"
            },
            "attachments": {}
        },
        {
            "cell_type": "code",
            "source": [
                "az login\r\n",
                "\r\n",
                "$subscription = \"subscriptionid\"\r\n",
                "$rg = \"testrg\"\r\n",
                "$cosmosdbaccountname = \"testcosmosdbaccount\"\r\n",
                "$location = \"eastus\"\r\n",
                "$armlocation = \"eastus2euap\"\r\n",
                ""
            ],
            "metadata": {
                "azdata_cell_guid": "1b13666e-c4e6-41d9-ba57-8e2de979a919"
            },
            "outputs": [
                {
                    "name": "stdout",
                    "text": "",
                    "output_type": "stream"
                }
            ],
            "execution_count": 1
        },
        {
            "cell_type": "markdown",
            "source": [
                "### Load Data Transfer Private AZ CLI Package\n",
                "\n",
                "Please ignore below warning and error in the output(this is common if you re-execute the script):\n",
                "\n",
                "- WARNING: Command group 'config' is experimental and under development\n",
                "    \n",
                "- ERROR: The extension cosmosdb-preview already exists"
            ],
            "metadata": {
                "azdata_cell_guid": "36c7b1e0-28e3-48b8-aade-4eb8af8047fd"
            },
            "attachments": {}
        },
        {
            "cell_type": "code",
            "source": [
                "az cloud update --endpoint-resource-manager \"https://$armlocation.management.azure.com\"\r\n",
                "az config set defaults.location=$location --local\r\n",
                "az extension add --source https://dtsclidist.blob.core.windows.net/cli-private-preview/V2/cosmosdb_preview-0.10.0-py2.py3-none-any.whl -y"
            ],
            "metadata": {
                "azdata_cell_guid": "e4db653c-e2f1-4212-9fd8-95be0fe9c0ef"
            },
            "outputs": [],
            "execution_count": null
        },
        {
            "cell_type": "markdown",
            "source": [
                "### Provision a cluster"
            ],
            "metadata": {
                "azdata_cell_guid": "46cb5a89-cb48-48b7-9856-a7af29a34e73"
            }
        },
        {
            "cell_type": "code",
            "source": [
                "az cosmosdb service create --account-name $cosmosdbaccountname -g $rg --service-name DataTransferService --kind \"DataTransferService\" --count 1 --size \"Cosmos.D4s\""
            ],
            "metadata": {
                "azdata_cell_guid": "54b4100e-8e91-4d83-86aa-34d7c49b4765"
            },
            "outputs": [],
            "execution_count": null
        }
    ]
}