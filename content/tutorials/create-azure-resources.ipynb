{
    "metadata": {
        "kernelspec": {
            "name": "powershell",
            "display_name": "PowerShell",
            "language": "powershell"
        },
        "language_info": {
            "name": "powershell",
            "codemirror_mode": "shell",
            "mimetype": "text/x-sh",
            "file_extension": ".ps1"
        },
        "extensions": {
            "azuredatastudio": {
                "version": 1,
                "views": []
            }
        }
    },
    "nbformat_minor": 2,
    "nbformat": 4,
    "cells": [
        {
            "cell_type": "markdown",
            "source": [
                "## Create Azure Resources - Cosmos DB Account & Azure storage account using AZ CLI "
            ],
            "metadata": {
                "azdata_cell_guid": "e9226cb9-04f7-4a7a-b816-7f3cb43028c5"
            }
        },
        {
            "cell_type": "markdown",
            "source": [
                "### Login to the subscription"
            ],
            "metadata": {
                "azdata_cell_guid": "6874e84b-f14d-4912-a4bb-29c234be4b8b"
            }
        },
        {
            "cell_type": "code",
            "source": [
                "az login\r\n",
                "az cloud set --name AzureCloud\r\n",
                "az account set --subscription $subscription\r\n",
                "if  ($(az group exists --name $rg) -eq $false) { az group create --name $rg --location $location }\r\n",
                "az config set defaults.group=$rg"
            ],
            "metadata": {
                "azdata_cell_guid": "e63c824f-2878-4eaf-996b-577a921e92db",
                "tags": [
                    "hide_input"
                ]
            },
            "outputs": [],
            "execution_count": null
        },
        {
            "cell_type": "markdown",
            "source": [
                "### Provide Sub Id, Resource Group, Cosmos DB Account Name, Storage Account and Region\n",
                "- please note that armlocation is required for private preview az cli extension, _please don't modify it_"
            ],
            "metadata": {
                "azdata_cell_guid": "a08f5a00-9813-4fdf-afff-9b1a793fb9ce"
            },
            "attachments": {}
        },
        {
            "cell_type": "code",
            "source": [
                "$subscription = \"subscriptionid\"\r\n",
                "$rg = \"testrg\"\r\n",
                "$cosmosdbaccountname = \"testcosmosdbaccount\"\r\n",
                "$storageaccount = \"teststorageaccount\" #only lowercase letters and numbers\r\n",
                "$location = \"eastus\""
            ],
            "metadata": {
                "azdata_cell_guid": "e6e928f0-6de8-4042-b852-b3bcebf24128",
                "tags": []
            },
            "outputs": [],
            "execution_count": null
        },
        {
            "cell_type": "markdown",
            "source": [
                "### Create a resource group"
            ],
            "metadata": {
                "azdata_cell_guid": "b4e9a4cb-cfa0-4187-9cfa-a78824f50a4e"
            }
        },
        {
            "cell_type": "code",
            "source": [
                "if  ($(az group exists --name $rg) -eq $false) { az group create --name $rg --location $location }"
            ],
            "metadata": {
                "azdata_cell_guid": "72ac83bb-ec9c-473a-bea4-cda6f8742d85"
            },
            "outputs": [
                {
                    "name": "stdout",
                    "text": "{\n  \"id\": \"/subscriptions/2c1d0b69-225a-43b5-8220-6a139ef92e23/resourceGroups/skarridtsnotebooksrg\",\n  \"location\": \"eastus\",\n  \"managedBy\": null,\n  \"name\": \"skarridtsnotebooksrg\",\n  \"properties\": {\n    \"provisioningState\": \"Succeeded\"\n  },\n  \"tags\": null,\n  \"type\": \"Microsoft.Resources/resourceGroups\"\n}\n",
                    "output_type": "stream"
                },
                {
                    "name": "stdout",
                    "text": "",
                    "output_type": "stream"
                }
            ],
            "execution_count": 5
        },
        {
            "cell_type": "markdown",
            "source": [
                "### Create a Cosmos DB Cassandra API Account"
            ],
            "metadata": {
                "azdata_cell_guid": "3007a7fa-36a8-4695-8ecd-3c4b60fff600"
            },
            "attachments": {}
        },
        {
            "cell_type": "code",
            "source": [
                "az cosmosdb create -n $cosmosdbaccountname -g $rg --capabilities EnableCassandra"
            ],
            "metadata": {
                "azdata_cell_guid": "439e03dc-fbe9-4692-b284-7c4ce06043c1",
                "tags": []
            },
            "outputs": [
                {
                    "name": "stdout",
                    "text": "{\n  \"analyticalStorageConfiguration\": {\n    \"schemaType\": \"WellDefined\"\n  },\n  \"apiProperties\": null,\n  \"backupPolicy\": {\n    \"migrationState\": null,\n    \"periodicModeProperties\": {\n      \"backupIntervalInMinutes\": 240,\n      \"backupRetentionIntervalInHours\": 8,\n      \"backupStorageRedundancy\": \"Geo\"\n    },\n    \"type\": \"Periodic\"\n  },\n  \"capabilities\": [\n    {\n      \"name\": \"EnableCassandra\"\n    }\n  ],\n  \"connectorOffer\": null,\n  \"consistencyPolicy\": {\n    \"defaultConsistencyLevel\": \"Session\",\n    \"maxIntervalInSeconds\": 5,\n    \"maxStalenessPrefix\": 100\n  },\n  \"cors\": [],\n  \"createMode\": null,\n  \"databaseAccountOfferType\": \"Standard\",\n  \"defaultIdentity\": \"FirstPartyIdentity\",\n  \"disableKeyBasedMetadataWriteAccess\": false,\n  \"disableLocalAuth\": false,\n  \"documentEndpoint\": \"https://skarridtsnotebooks.documents.azure.com:443/\",\n  \"enableAnalyticalStorage\": false,\n  \"enableAutomaticFailover\": false,\n  \"enableCassandraConnector\": null,\n  \"enableFreeTier\": false,\n  \"enableMultipleWriteLocations\": false,\n  \"failoverPolicies\": [\n    {\n      \"failoverPriority\": 0,\n      \"id\": \"skarridtsnotebooks-eastus\",\n      \"locationName\": \"East US\"\n    }\n  ],\n  \"id\": \"/subscriptions/2c1d0b69-225a-43b5-8220-6a139ef92e23/resourceGroups/skarridtsnotebooksrg/providers/Microsoft.DocumentDB/databaseAccounts/skarridtsnotebooks\",\n  \"identity\": {\n    \"principalId\": null,\n    \"tenantId\": null,\n    \"type\": \"None\",\n    \"userAssignedIdentities\": null\n  },\n  \"instanceId\": \"7c3a93a6-96d8-4c49-bde7-7325b5eed13f\",\n  \"ipRules\": [],\n  \"isVirtualNetworkFilterEnabled\": false,\n  \"keyVaultKeyUri\": null,\n  \"kind\": \"GlobalDocumentDB\",\n  \"location\": \"East US\",\n  \"locations\": [\n    {\n      \"documentEndpoint\": \"https://skarridtsnotebooks-eastus.documents.azure.com:443/\",\n      \"failoverPriority\": 0,\n      \"id\": \"skarridtsnotebooks-eastus\",\n      \"isZoneRedundant\": false,\n      \"locationName\": \"East US\",\n      \"provisioningState\": \"Succeeded\"\n    }\n  ],\n  \"name\": \"skarridtsnotebooks\",\n  \"networkAclBypass\": \"None\",\n  \"networkAclBypassResourceIds\": [],\n  \"privateEndpointConnections\": null,\n  \"provisioningState\": \"Succeeded\",\n  \"publicNetworkAccess\": \"Enabled\",\n  \"readLocations\": [\n    {\n      \"documentEndpoint\": \"https://skarridtsnotebooks-eastus.documents.azure.com:443/\",\n      \"failoverPriority\": 0,\n      \"id\": \"skarridtsnotebooks-eastus\",\n      \"isZoneRedundant\": false,\n      \"locationName\": \"East US\",\n      \"provisioningState\": \"Succeeded\"\n    }\n  ],\n  \"resourceGroup\": \"skarridtsnotebooksrg\",\n  \"restoreParameters\": null,\n  \"systemData\": {\n    \"createdAt\": \"2021-10-25T06:25:31.738719+00:00\",\n    \"createdBy\": null,\n    \"createdByType\": null,\n    \"lastModifiedAt\": null,\n    \"lastModifiedBy\": null,\n    \"lastModifiedByType\": null\n  },\n  \"tags\": {},\n  \"type\": \"Microsoft.DocumentDB/databaseAccounts\",\n  \"virtualNetworkRules\": [],\n  \"writeLocations\": [\n    {\n      \"documentEndpoint\": \"https://skarridtsnotebooks-eastus.documents.azure.com:443/\",\n      \"failoverPriority\": 0,\n      \"id\": \"skarridtsnotebooks-eastus\",\n      \"isZoneRedundant\": false,\n      \"locationName\": \"East US\",\n      \"provisioningState\": \"Succeeded\"\n    }\n  ]\n}\n",
                    "output_type": "stream"
                }
            ],
            "execution_count": 6
        },
        {
            "cell_type": "markdown",
            "source": [
                "###  Create an Azure Storage Account"
            ],
            "metadata": {
                "azdata_cell_guid": "77dc2e7a-9b37-44ca-a696-942896130aa7"
            }
        },
        {
            "cell_type": "code",
            "source": [
                "az storage account create -n $storageaccount -g $rg -l $location --sku Standard_LRS"
            ],
            "metadata": {
                "azdata_cell_guid": "fdad0161-f5a4-4fdc-8786-6b3d7fdf6e87",
                "tags": []
            },
            "outputs": [
                {
                    "name": "stdout",
                    "text": "{\n  \"accessTier\": \"Hot\",\n  \"allowBlobPublicAccess\": true,\n  \"allowCrossTenantReplication\": null,\n  \"allowSharedKeyAccess\": null,\n  \"azureFilesIdentityBasedAuthentication\": null,\n  \"blobRestoreStatus\": null,\n  \"creationTime\": \"2021-10-25T06:29:16.464137+00:00\",\n  \"customDomain\": null,\n  \"defaultToOAuthAuthentication\": null,\n  \"enableHttpsTrafficOnly\": true,\n  \"enableNfsV3\": null,\n  \"encryption\": {\n    \"encryptionIdentity\": null,\n    \"keySource\": \"Microsoft.Storage\",\n    \"keyVaultProperties\": null,\n    \"requireInfrastructureEncryption\": null,\n    \"services\": {\n      \"blob\": {\n        \"enabled\": true,\n        \"keyType\": \"Account\",\n        \"lastEnabledTime\": \"2021-10-25T06:29:16.557882+00:00\"\n      },\n      \"file\": {\n        \"enabled\": true,\n        \"keyType\": \"Account\",\n        \"lastEnabledTime\": \"2021-10-25T06:29:16.557882+00:00\"\n      },\n      \"queue\": null,\n      \"table\": null\n    }\n  },\n  \"extendedLocation\": null,\n  \"failoverInProgress\": null,\n  \"geoReplicationStats\": null,\n  \"id\": \"/subscriptions/2c1d0b69-225a-43b5-8220-6a139ef92e23/resourceGroups/skarridtsnotebooksrg/providers/Microsoft.Storage/storageAccounts/skdtsnotebookstorage\",\n  \"identity\": null,\n  \"immutableStorageWithVersioning\": null,\n  \"isHnsEnabled\": null,\n  \"keyCreationTime\": {\n    \"key1\": \"2021-10-25T06:29:16.557882+00:00\",\n    \"key2\": \"2021-10-25T06:29:16.557882+00:00\"\n  },\n  \"keyPolicy\": null,\n  \"kind\": \"StorageV2\",\n  \"largeFileSharesState\": null,\n  \"lastGeoFailoverTime\": null,\n  \"location\": \"eastus\",\n  \"minimumTlsVersion\": \"TLS1_0\",\n  \"name\": \"skdtsnotebookstorage\",\n  \"networkRuleSet\": {\n    \"bypass\": \"AzureServices\",\n    \"defaultAction\": \"Allow\",\n    \"ipRules\": [],\n    \"resourceAccessRules\": null,\n    \"virtualNetworkRules\": []\n  },\n  \"primaryEndpoints\": {\n    \"blob\": \"https://skdtsnotebookstorage.blob.core.windows.net/\",\n    \"dfs\": \"https://skdtsnotebookstorage.dfs.core.windows.net/\",\n    \"file\": \"https://skdtsnotebookstorage.file.core.windows.net/\",\n    \"internetEndpoints\": null,\n    \"microsoftEndpoints\": null,\n    \"queue\": \"https://skdtsnotebookstorage.queue.core.windows.net/\",\n    \"table\": \"https://skdtsnotebookstorage.table.core.windows.net/\",\n    \"web\": \"https://skdtsnotebookstorage.z13.web.core.windows.net/\"\n  },\n  \"primaryLocation\": \"eastus\",\n  \"privateEndpointConnections\": [],\n  \"provisioningState\": \"Succeeded\",\n  \"publicNetworkAccess\": null,\n  \"resourceGroup\": \"skarridtsnotebooksrg\",\n  \"routingPreference\": null,\n  \"sasPolicy\": null,\n  \"secondaryEndpoints\": null,\n  \"secondaryLocation\": null,\n  \"sku\": {\n    \"name\": \"Standard_LRS\",\n    \"tier\": \"Standard\"\n  },\n  \"statusOfPrimary\": \"available\",\n  \"statusOfSecondary\": null,\n  \"tags\": {},\n  \"type\": \"Microsoft.Storage/storageAccounts\"\n}\n",
                    "output_type": "stream"
                },
                {
                    "name": "stdout",
                    "text": "",
                    "output_type": "stream"
                }
            ],
            "execution_count": 7
        }
    ]
}