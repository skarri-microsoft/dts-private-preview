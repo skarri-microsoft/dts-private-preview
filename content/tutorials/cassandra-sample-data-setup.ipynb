{
    "metadata": {
        "kernelspec": {
            "name": "python3",
            "display_name": "Python 3 (ipykernel)",
            "language": "python"
        },
        "language_info": {
            "name": "python",
            "version": "3.8.10",
            "mimetype": "text/x-python",
            "codemirror_mode": {
                "name": "ipython",
                "version": 3
            },
            "pygments_lexer": "ipython3",
            "nbconvert_exporter": "python",
            "file_extension": ".py"
        },
        "extensions": {
            "azuredatastudio": {
                "version": 1,
                "views": []
            }
        }
    },
    "nbformat_minor": 2,
    "nbformat": 4,
    "cells": [
        {
            "cell_type": "markdown",
            "source": [
                "## Create Cassandra Keyspace and Table and Insert Sample Data"
            ],
            "metadata": {
                "azdata_cell_guid": "0894d668-eedb-4fea-a84c-d005c2415df7"
            },
            "attachments": {}
        },
        {
            "cell_type": "markdown",
            "source": [
                "### Install Cassandra Driver"
            ],
            "metadata": {
                "azdata_cell_guid": "8643e838-4128-4f7d-9125-aaf232d394a7"
            }
        },
        {
            "cell_type": "code",
            "source": [
                "pip install cassandra-driver"
            ],
            "metadata": {
                "azdata_cell_guid": "eb2e7b84-36d1-49b4-b4a6-079a94ad1b30"
            },
            "outputs": [],
            "execution_count": null
        },
        {
            "cell_type": "markdown",
            "source": [
                "### Connect to the Cosmos DB Cassandra Cluster"
            ],
            "metadata": {
                "azdata_cell_guid": "a67a13e4-3a01-43c0-8560-2eac1fe0d2a9"
            }
        },
        {
            "cell_type": "markdown",
            "source": [
                "### Set Cluster, Username, Password, Keyspace & Table values"
            ],
            "metadata": {
                "azdata_cell_guid": "3a7953db-c066-49bd-9e03-ac08884db93a"
            }
        },
        {
            "cell_type": "code",
            "source": [
                "strCluster=\"testcosmosdbaccount.cassandra.cosmos.azure.com\"\r\n",
                "strUsername=\"testcosmosdbaccount\"\r\n",
                "strPassword=\"password\"\r\n",
                "strKeyspace=\"Test\"\r\n",
                "strTable=\"cassandratest\""
            ],
            "metadata": {
                "azdata_cell_guid": "615b5a79-f9a3-4792-a67b-3d13f3d319a9",
                "tags": []
            },
            "outputs": [],
            "execution_count": 3
        },
        {
            "cell_type": "markdown",
            "source": [
                "### Create Keyspace and Table in the Cluster"
            ],
            "metadata": {
                "azdata_cell_guid": "0e6de428-484c-4bd6-a943-938b0527f855"
            }
        },
        {
            "cell_type": "code",
            "source": [
                "from cassandra.auth import PlainTextAuthProvider\r\n",
                "from cassandra.cluster import Cluster\r\n",
                "from ssl import PROTOCOL_TLSv1_2, SSLContext, CERT_NONE\r\n",
                "\r\n",
                "ssl_context = SSLContext(PROTOCOL_TLSv1_2)\r\n",
                "ssl_context.verify_mode = CERT_NONE\r\n",
                "auth_provider = auth_provider = PlainTextAuthProvider(username=strUsername, password=strPassword)\r\n",
                "cluster = Cluster([strCluster], port = 10350, auth_provider=auth_provider, ssl_context=ssl_context)\r\n",
                "session = cluster.connect()\r\n",
                "print (\"\\nCreating Keyspace\")\r\n",
                "session.execute('CREATE KEYSPACE IF NOT EXISTS '+strKeyspace+' WITH replication = {\\'class\\': \\'NetworkTopologyStrategy\\', \\'datacenter\\' : \\'1\\' }');\r\n",
                "print (\"\\nCreating Table\")\r\n",
                "session.execute('CREATE TABLE IF NOT EXISTS '+strKeyspace+'.'+strTable+' (user_id int PRIMARY KEY, user_name text, user_bcity text)');\r\n",
                ""
            ],
            "metadata": {
                "azdata_cell_guid": "460655bd-47ff-45f3-a91e-99a1258d3a78",
                "tags": []
            },
            "outputs": [],
            "execution_count": null
        },
        {
            "cell_type": "markdown",
            "source": [
                "### Alter table - Reset TTL Value at Row level"
            ],
            "metadata": {
                "azdata_cell_guid": "6f9ea4f6-b1d6-4600-8537-e5c2c0e9e817"
            },
            "attachments": {}
        },
        {
            "cell_type": "code",
            "source": [
                "session.execute('ALTER TABLE '+strKeyspace+'.'+strTable+' WITH  default_time_to_live= 60')"
            ],
            "metadata": {
                "azdata_cell_guid": "8a3eb1a7-7774-4112-a677-81d8dec1e513"
            },
            "outputs": [],
            "execution_count": null
        },
        {
            "cell_type": "markdown",
            "source": [
                "### Insert sample data into the table"
            ],
            "metadata": {
                "azdata_cell_guid": "6cb6ff10-0aa4-42e8-9b73-f75fffed829c"
            }
        },
        {
            "cell_type": "code",
            "source": [
                "session.execute(\"INSERT INTO  \"+strKeyspace+\".\"+strTable+\"  (user_id, user_name , user_bcity) VALUES (%s,%s,%s)\", [1,'Lybkov','Seattle'])\r\n",
                "session.execute(\"INSERT INTO  \"+strKeyspace+\".\"+strTable+\"  (user_id, user_name , user_bcity) VALUES (%s,%s,%s)\", [2,'Doniv','Dubai'])\r\n",
                "session.execute(\"INSERT INTO  \"+strKeyspace+\".\"+strTable+\"  (user_id, user_name , user_bcity) VALUES (%s,%s,%s)\", [3,'Keviv','Chennai'])\r\n",
                "session.execute(\"INSERT INTO  \"+strKeyspace+\".\"+strTable+\"  (user_id, user_name , user_bcity) VALUES (%s,%s,%s)\", [4,'Ehtevs','Pune'])\r\n",
                "session.execute(\"INSERT INTO  \"+strKeyspace+\".\"+strTable+\"  (user_id, user_name , user_bcity) VALUES (%s,%s,%s)\", [5,'Dnivog','Belgaum'])\r\n",
                "session.execute(\"INSERT INTO  \"+strKeyspace+\".\"+strTable+\"  (user_id, user_name , user_bcity) VALUES (%s,%s,%s)\", [6,'Ateegk','Narewadi'])\r\n",
                "session.execute(\"INSERT INTO  \"+strKeyspace+\".\"+strTable+\"  (user_id, user_name , user_bcity) VALUES (%s,%s,%s)\", [7,'KannabbuS','Yamkanmardi'])"
            ],
            "metadata": {
                "azdata_cell_guid": "7551e504-a968-4529-9b24-2f6b3868b8d9"
            },
            "outputs": [],
            "execution_count": null
        },
        {
            "cell_type": "markdown",
            "source": [
                "### Install Pretty table for printing rows"
            ],
            "metadata": {
                "azdata_cell_guid": "8554367f-b335-4b7c-b65a-1d33ad09eca7"
            },
            "attachments": {}
        },
        {
            "cell_type": "code",
            "source": [
                "pip install prettytable"
            ],
            "metadata": {
                "azdata_cell_guid": "45fb137b-a648-4b73-8b63-b241934baa32"
            },
            "outputs": [],
            "execution_count": null
        },
        {
            "cell_type": "markdown",
            "source": [
                "### Print sample data"
            ],
            "metadata": {
                "azdata_cell_guid": "4b9cc506-1934-435e-873c-cd13dd475ca0"
            }
        },
        {
            "cell_type": "code",
            "source": [
                "from prettytable import PrettyTable\r\n",
                "def PrintTable(rows):\r\n",
                "    t = PrettyTable(['UserID', 'Name', 'City'])\r\n",
                "    for r in rows:\r\n",
                "        t.add_row([r.user_id, r.user_name, r.user_bcity])\r\n",
                "    print (t)\r\n",
                "print (\"\\nSelecting All\")\r\n",
                "rows = session.execute('SELECT * FROM '+strKeyspace+\".\"+strTable+'')\r\n",
                "PrintTable(rows)"
            ],
            "metadata": {
                "azdata_cell_guid": "f2cc430f-8afa-4e37-a193-20c05af18c34"
            },
            "outputs": [],
            "execution_count": null
        },
        {
            "cell_type": "markdown",
            "source": [
                "### Display Table Schema"
            ],
            "metadata": {
                "azdata_cell_guid": "f1cde223-30fc-4ed8-b72c-2cd3c4a5a480"
            },
            "attachments": {}
        },
        {
            "cell_type": "code",
            "source": [
                "from prettytable import PrettyTable\r\n",
                "def printTableSchema(rows):\r\n",
                "    t = PrettyTable(['keyspace_name', 'table_name', 'column_name','clustering_order','column_name_bytes','kind','position','type'])\r\n",
                "    for r in rows:\r\n",
                "        t.add_row([r.keyspace_name, r.table_name, r.column_name,r.clustering_order,r.column_name_bytes,r.kind,r.position,r.type])\r\n",
                "    print (t)\r\n",
                "print (\"\\nSelecting All\")\r\n",
                "rows=session.execute('SELECT * FROM system_schema.columns WHERE keyspace_name = \\''+strKeyspace+'\\' AND table_name = \\''+strTable+'\\'')\r\n",
                "printTableSchema(rows)"
            ],
            "metadata": {
                "azdata_cell_guid": "e2bafbcc-7ca0-4b0c-b66d-0b431d9f8626"
            },
            "outputs": [],
            "execution_count": null
        }
    ]
}