{
    "metadata": {
        "kernelspec": {
            "name": "powershell",
            "display_name": "PowerShell",
            "language": "powershell"
        },
        "language_info": {
            "name": "powershell",
            "codemirror_mode": "shell",
            "mimetype": "text/x-sh",
            "file_extension": ".ps1"
        },
        "extensions": {
            "azuredatastudio": {
                "version": 1,
                "views": []
            }
        }
    },
    "nbformat_minor": 2,
    "nbformat": 4,
    "cells": [
        {
            "cell_type": "markdown",
            "source": [
                "## Enable managed identity on existing Storage Account and Cosmos DB Account "
            ],
            "metadata": {
                "azdata_cell_guid": "e9226cb9-04f7-4a7a-b816-7f3cb43028c5"
            }
        },
        {
            "cell_type": "markdown",
            "source": [
                "### Login to the subscription"
            ],
            "metadata": {
                "azdata_cell_guid": "6874e84b-f14d-4912-a4bb-29c234be4b8b"
            }
        },
        {
            "cell_type": "code",
            "source": [
                "az login\r\n",
                "az cloud set --name AzureCloud\r\n",
                "az account set --subscription $subscription\r\n",
                "if  ($(az group exists --name $rg) -eq $false) { az group create --name $rg --location $location }\r\n",
                "az config set defaults.group=$rg"
            ],
            "metadata": {
                "azdata_cell_guid": "e63c824f-2878-4eaf-996b-577a921e92db",
                "tags": [
                    "hide_input"
                ]
            },
            "outputs": [],
            "execution_count": null
        },
        {
            "cell_type": "markdown",
            "source": [
                "### Provide Sub Id, Resource Group, Cosmos DB Account Name, Storage Account and Region\n",
                "- please note that armlocation is required for private preview az cli extension, _please don't modify it_"
            ],
            "metadata": {
                "azdata_cell_guid": "a08f5a00-9813-4fdf-afff-9b1a793fb9ce"
            },
            "attachments": {}
        },
        {
            "cell_type": "code",
            "source": [
                "$subscription = \"subscriptionid\"\r\n",
                "$rg = \"testrg\"\r\n",
                "$cosmosdbaccountname = \"testcosmosdbaccount\"\r\n",
                "$storageaccount = \"teststorageaccount\" #only lowercase letters and numbers\r\n",
                "$location = \"eastus\"\r\n",
                "$armlocation = \"eastus2euap\""
            ],
            "metadata": {
                "azdata_cell_guid": "e6e928f0-6de8-4042-b852-b3bcebf24128",
                "tags": []
            },
            "outputs": [
                {
                    "name": "stdout",
                    "text": "",
                    "output_type": "stream"
                }
            ],
            "execution_count": 7
        },
        {
            "cell_type": "markdown",
            "source": [
                "### Load Data Transfer Private AZ CLI Package\n",
                "please ignore below warning and error in the output(this is common if you re-execute the script):\n",
                "\n",
                "- WARNING: Command group 'config' is experimental and under development\n",
                "    \n",
                "- ERROR: The extension cosmosdb-preview already exists"
            ],
            "metadata": {
                "azdata_cell_guid": "3007a7fa-36a8-4695-8ecd-3c4b60fff600"
            },
            "attachments": {}
        },
        {
            "cell_type": "code",
            "source": [
                "az config set defaults.group=$rg\r\n",
                "az cloud update --endpoint-resource-manager \"https://$armlocation.management.azure.com\"\r\n",
                "az config set defaults.location=$location --local\r\n",
                "az extension add --source https://dtsclidist.blob.core.windows.net/cli-private-preview/V2/cosmosdb_preview-0.10.0-py2.py3-none-any.whl -y"
            ],
            "metadata": {
                "azdata_cell_guid": "439e03dc-fbe9-4692-b284-7c4ce06043c1",
                "tags": []
            },
            "outputs": [],
            "execution_count": null
        },
        {
            "cell_type": "markdown",
            "source": [
                "### Assign Cosmos DB Managed System Identity to Storage Account\r\n",
                "- please note that if the role already exists the output shows 'Azure Error: RoleAssignmentExists', it's safe to ignore this error."
            ],
            "metadata": {
                "azdata_cell_guid": "77dc2e7a-9b37-44ca-a696-942896130aa7"
            }
        },
        {
            "cell_type": "code",
            "source": [
                "\r\n",
                "az cosmosdb identity assign -n $cosmosdbaccountname -g $rg\r\n",
                "az cosmosdb update -n $cosmosdbaccountname --default-identity=\"SystemAssignedIdentity\"\r\n",
                "$identityPrincipal=$(az cosmosdb identity show -n $cosmosdbaccountname -g $rg --query principalId --out tsv)\r\n",
                "az role assignment create --assignee $identityPrincipal --role \"Storage Blob Data Contributor\" --scope \"subscriptions/$subscription/resourceGroups/$rg/providers/Microsoft.Storage/storageAccounts/$storageaccount\""
            ],
            "metadata": {
                "azdata_cell_guid": "fdad0161-f5a4-4fdc-8786-6b3d7fdf6e87",
                "tags": []
            },
            "outputs": [],
            "execution_count": null
        }
    ]
}