{
    "metadata": {
        "kernelspec": {
            "name": "powershell",
            "display_name": "PowerShell",
            "language": "powershell"
        },
        "language_info": {
            "name": "powershell",
            "codemirror_mode": "shell",
            "mimetype": "text/x-sh",
            "file_extension": ".ps1"
        },
        "extensions": {
            "azuredatastudio": {
                "version": 1,
                "views": []
            }
        }
    },
    "nbformat_minor": 2,
    "nbformat": 4,
    "cells": [
        {
            "cell_type": "markdown",
            "source": [
                "## **Important!** Requries a 'data transfer cluster' & 'managed identity' to perform these operations!\n",
                "\n",
                "- Go [here](.\\dts-enable-managed-identity.ipynb) for enabling managed identity b/w Cosmos DB and Azure Storage Account steps\n",
                "- Go [here](.\\provision-data-transfer-service.ipynb) for provisioning steps"
            ],
            "metadata": {
                "azdata_cell_guid": "803a5336-9fc2-423d-9448-920af14657c3"
            },
            "attachments": {}
        },
        {
            "cell_type": "markdown",
            "source": [
                "### Login to your Subscription and Provide Sub Id, Resource Group, Cosmos DB Account Name, Storage Account and Region"
            ],
            "metadata": {
                "azdata_cell_guid": "488149ee-63e9-41b4-bf55-291a971d91fc"
            }
        },
        {
            "cell_type": "code",
            "source": [
                "az login\r\n",
                "\r\n",
                "$subscription = \"subscriptionid\"\r\n",
                "$rg = \"testrg\"\r\n",
                "$cosmosdbaccountname = \"testcosmosdbaccount\"\r\n",
                "$storageaccount = \"teststorageaccount\" #only lowercase letters and numbers\r\n",
                "$location = \"eastus\"\r\n",
                "$armlocation = \"eastus2euap\"\r\n",
                ""
            ],
            "metadata": {
                "azdata_cell_guid": "e10e968a-d014-4d5d-a853-b773d157c841"
            },
            "outputs": [],
            "execution_count": null
        },
        {
            "cell_type": "markdown",
            "source": [
                "### Export a Cassandra Table"
            ],
            "metadata": {
                "azdata_cell_guid": "501310f1-6a8e-4255-aa82-57696af84998"
            },
            "attachments": {}
        },
        {
            "cell_type": "code",
            "source": [
                "$exportJobname=\"exportjob110\"\r\n",
                "$exportkeyspace=\"test\"\r\n",
                "$exporttable=\"cassandratest\"\r\n",
                "$exportstoragecontainer=\"testcontainer\"\r\n",
                "az cosmosdb dts export --account-name  $cosmosdbaccountname -g $rg --job-name $exportJobname --cassandra-table keyspace=$exportkeyspace table=$exporttable --blob-container name=$exportstoragecontainer url=https://$storageaccount.blob.core.windows.net/\r\n",
                "Start-Sleep -Seconds 10\r\n",
                "az cosmosdb dts show  --account-name  $cosmosdbaccountname -g $rg --job-name $exportJobname"
            ],
            "metadata": {
                "azdata_cell_guid": "b781d0f7-8a51-4443-8907-bddf70b90f50"
            },
            "outputs": [],
            "execution_count": null
        },
        {
            "cell_type": "markdown",
            "source": [
                "### Import a Cassandra Table\r\n",
                "\r\n",
                "**Important!** By default import creates a collection with 400 RUS, if the size of the data is big and requires more RUS, please create a destination table manually with enough RUS, and ensure table schema matches with exported data.\r\n",
                "\r\n",
                "**Note:** Export data format is Avro and can be viewed using Avro tools. Please note that don't open AVRO files using online tools if it has sensitive information (**** security risk ****)"
            ],
            "metadata": {
                "azdata_cell_guid": "c0cc8db4-05f5-411a-9c89-bcc1be4b05e1"
            },
            "attachments": {}
        },
        {
            "cell_type": "code",
            "source": [
                "$importJobname=\"importjob110\"\r\n",
                "$importkeyspace=\"test2\"\r\n",
                "$importtable=\"cassandratest2\"\r\n",
                "$importstoragecontainer=\"testcontainer\"\r\n",
                "\r\n",
                "az cosmosdb dts import --account-name  $cosmosdbaccountname -g $rg --job-name $importJobname --cassandra-table keyspace=$importkeyspace table=$importtable --blob-container name=$importstoragecontainer url=https://$storageaccount.blob.core.windows.net/\r\n",
                "Start-Sleep -Seconds 15\r\n",
                "az cosmosdb dts show  --account-name  $cosmosdbaccountname -g $rg --job-name $importJobname"
            ],
            "metadata": {
                "azdata_cell_guid": "8d02590d-4b95-48e5-ae01-7b6f5967e6de"
            },
            "outputs": [],
            "execution_count": null
        }
    ]
}